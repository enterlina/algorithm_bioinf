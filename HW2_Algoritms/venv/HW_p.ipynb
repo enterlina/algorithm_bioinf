{
 "cells": [
  {
   "cell_type": "code",
   "execution_count": null,
   "metadata": {
    "collapsed": true
   },
   "outputs": [],
   "source": [
    "animals = {\"zero\": \"ameba\" , \"ameba\": \"fish\" , \"fish\": \"begemot\" , 'begemot': 'giraffe'}\n",
    "\n",
    "path = ''\n",
    "\n",
    "\n",
    "def tree(animals , child):\n",
    "    for item in animals:\n",
    "        if animals[ item ] == child:\n",
    "            return item\n",
    "\n",
    "start = 'giraffe'\n",
    "k = tree ( animals , start )\n",
    "print (k)\n",
    "\n",
    "while start != \"zero\":\n",
    "    for i in animals:\n",
    "        if animals[ i ] == start:\n",
    "            k = tree ( animals , animals[ i ] )\n",
    "            path += k\n",
    "            start = animals[ k ]\n",
    "\n",
    "print (path)\n"
   ]
  }
 ],
 "metadata": {
  "kernelspec": {
   "display_name": "Python 2",
   "language": "python",
   "name": "python2"
  },
  "language_info": {
   "codemirror_mode": {
    "name": "ipython",
    "version": 2
   },
   "file_extension": ".py",
   "mimetype": "text/x-python",
   "name": "python",
   "nbconvert_exporter": "python",
   "pygments_lexer": "ipython2",
   "version": "2.7.6"
  }
 },
 "nbformat": 4,
 "nbformat_minor": 0
}
